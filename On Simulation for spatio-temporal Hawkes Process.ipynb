{
 "cells": [
  {
   "cell_type": "markdown",
   "metadata": {},
   "source": [
    "# A Jupyter Notebook for a Python class simulating a Hawkes Process"
   ]
  },
  {
   "cell_type": "markdown",
   "metadata": {},
   "source": [
    "We want to examine multiple plossibilties of simulating a spatio-temporal Hawkes Process, where the space $X$ is given by the unit circle $S^1$. We transform said space canonically to the intervall $[0,2\\pi)$ imposing periodic boundary conditions on the kernels we use. By the nature of $X$ we only have to consider temporal initial conditions and no effects from events \"outside\" of $X$.\n",
    "\n",
    "First we approach the task following the classical result called _transformation method_ or _inverse compensator method_ stating that given the realisations $\\{\\tau_1,\\tau_2,... \\}$ of a unit rate Poisson process, we find the realisations $\\{t_1,t_2,... \\}$ of another Point process with intensity $\\lambda$ by solving\n",
    "$$\\tau_k = \\displaystyle\\int_0^{t_k} \\lambda(s)\\mathrm ds$$. \n",
    "\n",
    "While our problem depends on time and space, we will still use this result considering intensities $\\lambda$ of the form $\\lambda(s,t) = f(s)\\cdot g(t)$. The algorithm will then work in the following way:\n",
    "\n",
    "1. Construct $K$ realisations of a unit rate Poisson process\n",
    "1. Determine the integrated Intensity $\\lambda^{\\ast}(t) = \\displaystyle\\int_X \\lambda(s,t)\\mathrm ds$\n",
    "1. Use the _transformation method_ to find the next Event time $t_k$\n",
    "1. Normalize $\\lambda(s,t_k)$ to a density $\\lambda_d$ on $X$ and draw an realisation $s_k$ according to $\\lambda_d$\n",
    "1. Update the set of Events $S = S\\cup \\{(t_k,s_k)\\}$ and the intensity $\\lambda$ \n",
    "1. Continue up to $k = K$\n"
   ]
  },
  {
   "cell_type": "code",
   "execution_count": 1,
   "metadata": {
    "collapsed": true
   },
   "outputs": [],
   "source": [
    "\"\"\"\n",
    "Created on Tue Mar 20 17:33:48 2018\n",
    "\n",
    "@author: Jens Fischer, jefischer@uni-potsdam.de\n",
    "\n",
    "Simulate a spatio-temporal Hawkes process on [0,2pi]x[0,infty) with periodic bdry conditions in space.\n",
    "\"\"\"\n",
    "\n",
    "import numpy as np\n",
    "import random as rand\n",
    "#import matplotlib.pyplot as plt\n",
    "from scipy.integrate import quad\n",
    "import scipy.optimize as opt\n",
    "from RandomNumberGen import draw_random_number_from_pdf\n",
    "\n",
    "#\n",
    "#rand.seed(42)\n",
    "\n",
    "class Hawkes():\n",
    "\n",
    "    def __init__(self, Base, spatial, temporal):\n",
    "        self.Base = Base\n",
    "        self.spatial = spatial\n",
    "        self.temporal = temporal\n",
    "        self.Events = np.array([[0],[0]])\n",
    "        self.PoissEvent = np.array([])\n",
    "        self.Sim_num = 0\n",
    "        \n",
    "        \n",
    "    def propogate_by_amount(self, k, Space = [0, 2*np.pi]):        \n",
    "        \n",
    "        def periodizer(x):\n",
    "            return x%(2*np.pi)\n",
    "        \n",
    "        for i in range(k):\n",
    "            self.PoissEvent = np.append(self.PoissEvent,rand.expovariate(1))\n",
    "        \n",
    "        PoissProcess = np.cumsum(self.PoissEvent)\n",
    "        mu = quad(self.Base, Space[0], Space[1])[0]   \n",
    "        \n",
    "        for time in PoissProcess[self.Sim_num:]:   \n",
    "            dist_temporal = lambda x: np.array([self.temporal(i) for i in [periodizer(x-j) for j in self.Events[0,:]]])\n",
    "\n",
    "            int_spatial = np.array([quad(self.spatial, Space[0]-i, Space[1]-i)[0] for i in self.Events[1,:]])\n",
    "            \n",
    "            def righthandside(t):\n",
    "                dydt = mu + np.multiply(int_spatial.T, dist_temporal(t)).sum()\n",
    "                return dydt\n",
    "            \n",
    "            I = lambda x: quad(righthandside, 0, x)[0]  - time \n",
    "            EventTime = opt.fsolve(I, np.sqrt(time))\n",
    "            \n",
    "            Spatial_density = lambda x: (self.Base(x) + dist_temporal(EventTime).sum()*np.array([self.spatial(x - i) for i in self.Events[1,:]]).sum())/(mu + dist_temporal(EventTime).sum()*int_spatial.sum())\n",
    "            \n",
    "            EventSpace = draw_random_number_from_pdf(Spatial_density, [0,2*np.pi])\n",
    "            \n",
    "            NewEvent = np.array([EventTime, EventSpace])\n",
    "            self.Events = np.append(self.Events, NewEvent, axis = 1)\n",
    "        \n",
    "        self.Sim_num += k\n",
    "            "
   ]
  },
  {
   "cell_type": "markdown",
   "metadata": {},
   "source": [
    "## Creating instances for different kernels "
   ]
  },
  {
   "cell_type": "markdown",
   "metadata": {},
   "source": [
    "1. We are going to use for both the temporal and the spatial kernel a tent map taking only positive values."
   ]
  },
  {
   "cell_type": "code",
   "execution_count": 2,
   "metadata": {},
   "outputs": [
    {
     "data": {
      "image/png": "[encoded data removed]",
      "text/plain": [
       "<matplotlib.figure.Figure at 0x7f26280e9748>"
      ]
     },
     "metadata": {},
     "output_type": "display_data"
    }
   ],
   "source": [
    "#!/usr/bin/env python3\n",
    "# -*- coding: utf-8 -*-\n",
    "\"\"\"\n",
    "Create an instance of the Hawkes Class for kernels defined in the following\n",
    "\"\"\"\n",
    "\n",
    "import numpy as np\n",
    "import matplotlib.pyplot as plt\n",
    "from HawkesClass import Hawkes\n",
    "\n",
    "#the temporal kernel\n",
    "def HawkesIntensity_temporal(time):\n",
    "    a = 1 \n",
    "    b = 2 \n",
    "    IndInTemp = (time < b/2) & (time > 0)\n",
    "    IndDecTemp = (time >= b/2) & (time < b)\n",
    "    return 2*a/b * (time)*IndInTemp + ((-(2*a)/b)* (time) + 2*a )*IndDecTemp\n",
    " \n",
    "    \n",
    "#the spatial kernel\n",
    "def g(space):\n",
    "    a = 1 \n",
    "    b = 3 \n",
    "    IndDecSpat = (space > b/2) & (space < b)\n",
    "    IndInSpat = (space <= b/2) & (space >= 0)\n",
    "    return ((-(2*a)/b)* space + 2*a )*IndDecSpat + 2*a/b * space*IndInSpat\n",
    "\n",
    "def Base(x):\n",
    "    mu = 0.5\n",
    "    return mu\n",
    "\n",
    "# Plotting the kernels\n",
    "\n",
    "x = np.linspace(0,2*np.pi,100)\n",
    "\n",
    "plt.subplot(1, 2, 1)\n",
    "plt.plot(x, HawkesIntensity_temporal(x), 'm')\n",
    "plt.xlabel('time')\n",
    "plt.ylabel('temporal kernel over time')\n",
    "\n",
    "\n",
    "plt.subplot(1, 2, 2)\n",
    "plt.plot(x, g(x), 'r')\n",
    "plt.xlabel('space')\n",
    "plt.ylabel('spatial kernel on X')\n",
    "\n",
    "plt.tight_layout()\n",
    "\n",
    "plt.show()\n",
    "\n",
    "\n",
    "# -------------- Creating an instance of the Hawkes Class\n",
    "G = Hawkes(Base, g, HawkesIntensity_temporal)"
   ]
  },
  {
   "cell_type": "markdown",
   "metadata": {},
   "source": [
    "The function *propogate_by_amount* allows to advance the process by a given number of steps."
   ]
  },
  {
   "cell_type": "code",
   "execution_count": 2,
   "metadata": {},
   "outputs": [
    {
     "name": "stderr",
     "output_type": "stream",
     "text": [
      "/home/jens/anaconda3/lib/python3.6/site-packages/scipy/integrate/quadpack.py:364: IntegrationWarning: The occurrence of roundoff error is detected, which prevents \n",
      "  the requested tolerance from being achieved.  The error may be \n",
      "  underestimated.\n",
      "  warnings.warn(msg, IntegrationWarning)\n",
      "/home/jens/anaconda3/lib/python3.6/site-packages/scipy/integrate/quadpack.py:364: IntegrationWarning: The maximum number of subdivisions (50) has been achieved.\n",
      "  If increasing the limit yields no improvement it is advised to analyze \n",
      "  the integrand in order to determine the difficulties.  If the position of a \n",
      "  local difficulty can be determined (singularity, discontinuity) one will \n",
      "  probably gain from splitting up the interval and calling the integrator \n",
      "  on the subranges.  Perhaps a special-purpose integrator should be used.\n",
      "  warnings.warn(msg, IntegrationWarning)\n"
     ]
    },
    {
     "data": {
      "image/png": "[encoded data removed]",
      "text/plain": [
       "<matplotlib.figure.Figure at 0x7f6d44c71a20>"
      ]
     },
     "metadata": {},
     "output_type": "display_data"
    }
   ],
   "source": [
    "G.propogate_by_amount(10)\n",
    "\n",
    "plt.scatter(G.Events[0,1:],G.Events[1,1:], marker = \"^\")\n",
    "plt.show()  "
   ]
  },
  {
   "cell_type": "code",
   "execution_count": 3,
   "metadata": {},
   "outputs": [
    {
     "name": "stderr",
     "output_type": "stream",
     "text": [
      "/home/jens/anaconda3/lib/python3.6/site-packages/scipy/integrate/quadpack.py:364: IntegrationWarning: The maximum number of subdivisions (50) has been achieved.\n",
      "  If increasing the limit yields no improvement it is advised to analyze \n",
      "  the integrand in order to determine the difficulties.  If the position of a \n",
      "  local difficulty can be determined (singularity, discontinuity) one will \n",
      "  probably gain from splitting up the interval and calling the integrator \n",
      "  on the subranges.  Perhaps a special-purpose integrator should be used.\n",
      "  warnings.warn(msg, IntegrationWarning)\n",
      "/home/jens/anaconda3/lib/python3.6/site-packages/scipy/integrate/quadpack.py:364: IntegrationWarning: The occurrence of roundoff error is detected, which prevents \n",
      "  the requested tolerance from being achieved.  The error may be \n",
      "  underestimated.\n",
      "  warnings.warn(msg, IntegrationWarning)\n"
     ]
    },
    {
     "data": {
      "image/png": "[encoded data removed]",
      "text/plain": [
       "<matplotlib.figure.Figure at 0x7f6d44bc90f0>"
      ]
     },
     "metadata": {},
     "output_type": "display_data"
    }
   ],
   "source": [
    "G.propogate_by_amount(10)\n",
    "\n",
    "plt.scatter(G.Events[0,1:],G.Events[1,1:], marker = \"^\")\n",
    "plt.show()"
   ]
  },
  {
   "cell_type": "code",
   "execution_count": 10,
   "metadata": {},
   "outputs": [
    {
     "name": "stdout",
     "output_type": "stream",
     "text": [
      "All simulated Events for G:\n",
      "[[ 0.          0.05922309  0.06312566  0.45399672  0.46985659  0.69381781\n",
      "   0.70255476  0.79631626  0.88528811  1.25645341  1.39151447  1.73747959\n",
      "   1.7724636   1.90778391  1.95104354  2.16855812  2.25811473  2.32270274\n",
      "   2.35691126  2.57161814  2.59747689]\n",
      " [ 0.          0.62888385  0.66682871  5.66175757  5.39695618  1.53792741\n",
      "   3.22324839  5.07132719  2.03909651  4.91229149  2.50641468  4.10702128\n",
      "   2.1452852   2.39923836  2.21886993  5.19518948  1.03779157  5.08316135\n",
      "   4.23110578  5.07609868  3.37457643]]\n"
     ]
    }
   ],
   "source": [
    "print('All simulated Events for G:')\n",
    "print(G.Events)"
   ]
  },
  {
   "cell_type": "code",
   "execution_count": 3,
   "metadata": {
    "collapsed": true
   },
   "outputs": [
    {
     "data": {
      "image/png": "[encoded data removed]",
      "text/plain": [
       "<matplotlib.figure.Figure at 0x7f25f89d2358>"
      ]
     },
     "metadata": {},
     "output_type": "display_data"
    }
   ],
   "source": [
    "#!/usr/bin/env python3\n",
    "# -*- coding: utf-8 -*-\n",
    "\"\"\"\n",
    "Create an instance of the Hawkes Class for kernels defined in the following\n",
    "\"\"\"\n",
    "\n",
    "import numpy as np\n",
    "import matplotlib.pyplot as plt\n",
    "from HawkesClass import Hawkes\n",
    "\n",
    "#the temporal kernel\n",
    "def HawkesIntensity_temporal(time):\n",
    "    a = 1 \n",
    "    b = 2 \n",
    "    IndInTemp = (time < b/2) & (time > 0)\n",
    "    IndDecTemp = (time >= b/2) & (time < b)\n",
    "    return 2*a/b * (time)*IndInTemp + ((-(2*a)/b)* (time) + 2*a )*IndDecTemp\n",
    " \n",
    "\n",
    "#the spatial kernel    \n",
    "def h(space):\n",
    "    a = 2.0\n",
    "    b = 1.0\n",
    "    Ind = (space >= 0) & (space <= b)\n",
    "    return (261/5* a/b**4.0 * (space - b/2)**4.0 - 341.0/20.0*a/b**2.0* (space - b/2)**2.0 + a)*Ind\n",
    "\n",
    "def Base(x):\n",
    "    mu = 0.5\n",
    "    return mu\n",
    "\n",
    "\n",
    "#  -------------- Plotting the kernels\n",
    "x = np.linspace(0,2,100)\n",
    "\n",
    "plt.subplot(1, 2, 1)\n",
    "plt.plot(x, HawkesIntensity_temporal(x), 'm')\n",
    "plt.xlabel('time')\n",
    "plt.ylabel('temporal kernel over time')\n",
    "\n",
    "\n",
    "plt.subplot(1, 2, 2)\n",
    "plt.plot(x, h(x), 'r')\n",
    "plt.xlabel('space')\n",
    "plt.ylabel('spatial kernel on X')\n",
    "\n",
    "plt.tight_layout()\n",
    "\n",
    "plt.show()\n",
    "\n",
    "# -------------- Creating an instance of the Hawkes Class\n",
    "H = Hawkes(Base, h, HawkesIntensity_temporal)"
   ]
  },
  {
   "cell_type": "code",
   "execution_count": 4,
   "metadata": {},
   "outputs": [
    {
     "name": "stderr",
     "output_type": "stream",
     "text": [
      "/home/jens/anaconda3/lib/python3.6/site-packages/scipy/integrate/quadpack.py:364: IntegrationWarning: The maximum number of subdivisions (50) has been achieved.\n",
      "  If increasing the limit yields no improvement it is advised to analyze \n",
      "  the integrand in order to determine the difficulties.  If the position of a \n",
      "  local difficulty can be determined (singularity, discontinuity) one will \n",
      "  probably gain from splitting up the interval and calling the integrator \n",
      "  on the subranges.  Perhaps a special-purpose integrator should be used.\n",
      "  warnings.warn(msg, IntegrationWarning)\n"
     ]
    },
    {
     "data": {
      "image/png": "[encoded data removed]",
      "text/plain": [
       "<matplotlib.figure.Figure at 0x7f262ddc3400>"
      ]
     },
     "metadata": {},
     "output_type": "display_data"
    }
   ],
   "source": [
    "H.propogate_by_amount(10)\n",
    "\n",
    "plt.scatter(H.Events[0,1:],H.Events[1,1:], marker = \"^\")\n",
    "plt.show()  "
   ]
  },
  {
   "cell_type": "code",
   "execution_count": 24,
   "metadata": {},
   "outputs": [
    {
     "name": "stdout",
     "output_type": "stream",
     "text": [
      "All simulated Events for H:\n",
      "[[ 0.          0.01374738  0.45273     0.86484687  0.92724861  1.05955719\n",
      "   1.2619927   1.58894705  1.63185468  2.05980257  2.27906242  2.57359337\n",
      "   2.77580539  2.78107289  2.99447388  3.45768256  3.56184432  3.59301362\n",
      "   3.70056475  3.74808609  3.82038467]\n",
      " [ 0.          0.36482363  0.48358052  0.75493607  1.08120875  5.24351558\n",
      "   1.35149803  0.92185281  1.52217395  5.91181407  2.14543265  5.76380987\n",
      "   6.1620617   0.5584224   6.25288526  2.80680286  1.76319709  0.71080159\n",
      "   2.01727996  0.88584419  1.44856881]]\n"
     ]
    }
   ],
   "source": [
    "print('All simulated Events for H:')\n",
    "print(H.Events)"
   ]
  },
  {
   "cell_type": "code",
   "execution_count": 5,
   "metadata": {},
   "outputs": [
    {
     "name": "stderr",
     "output_type": "stream",
     "text": [
      "/home/jens/anaconda3/lib/python3.6/site-packages/scipy/integrate/quadpack.py:364: IntegrationWarning: The maximum number of subdivisions (50) has been achieved.\n",
      "  If increasing the limit yields no improvement it is advised to analyze \n",
      "  the integrand in order to determine the difficulties.  If the position of a \n",
      "  local difficulty can be determined (singularity, discontinuity) one will \n",
      "  probably gain from splitting up the interval and calling the integrator \n",
      "  on the subranges.  Perhaps a special-purpose integrator should be used.\n",
      "  warnings.warn(msg, IntegrationWarning)\n"
     ]
    },
    {
     "data": {
      "image/png": "[encoded data removed]",
      "text/plain": [
       "<matplotlib.figure.Figure at 0x7f25f88ae320>"
      ]
     },
     "metadata": {},
     "output_type": "display_data"
    }
   ],
   "source": [
    "H.propogate_by_amount(30)\n",
    "\n",
    "plt.scatter(H.Events[0,1:],H.Events[1,1:], marker = \"^\")\n",
    "plt.show()  "
   ]
  },
  {
   "cell_type": "code",
   "execution_count": 9,
   "metadata": {},
   "outputs": [
    {
     "name": "stdout",
     "output_type": "stream",
     "text": [
      "[   0.65009966    3.2671318     4.16921662    4.45494084    5.0069203\n",
      "    5.98458841    6.85601007    6.9931276     8.42397433    8.71821923\n",
      "   10.80924078   11.91395686   12.40477009   12.4695014    15.04295949\n",
      "   15.80230515   16.90530586   17.89736658   18.18050185   18.83307397\n",
      "   19.35227182   20.85451202   22.11467031   22.82174159   23.3239939\n",
      "   25.41900004   25.95632124   26.00446672   27.91897967   28.65037827\n",
      "   29.65180726   29.8689554    30.21667894   30.47226782   30.74173672\n",
      "   31.55692556   32.71668413   34.68267666   37.27160589   37.90158425\n",
      "   38.33615664   39.33915669   39.3394626    39.4436732    40.92748117\n",
      "   40.95496637   41.77199152   42.07373276   42.65071111   43.00938162\n",
      "   43.09972648   44.38382192   44.46392814   45.16880043   45.92469146\n",
      "   47.38549372   47.57253288   47.58538249   48.29322443   50.60118201\n",
      "   53.46478011   54.72247578   56.92078761   57.56761279   58.73696169\n",
      "   58.99871018   60.1071582    60.34830449   60.72232505   61.05983328\n",
      "   64.02401689   68.15186512   68.50471097   68.78243818   69.26655214\n",
      "   69.60301185   71.09682061   71.94730413   72.5449984    72.68415226\n",
      "   72.99242149   74.73815896   75.26437335   75.49576202   76.72737878\n",
      "   76.77637903   76.86549974   78.30676452   79.82928383   80.69239705\n",
      "   81.5399876    81.77123051   83.09190532   84.21865112   86.05262099\n",
      "   86.40476398   86.76766685   87.31771104   88.81275739   90.79734274\n",
      "   90.89787914   91.00587805   93.14641541   97.80851852   98.61030021\n",
      "  100.76763425  101.87360506  102.55535524  103.57312022  106.73202493]\n"
     ]
    }
   ],
   "source": [
    "import numpy as np\n",
    "print(np.cumsum(H.PoissEvent))"
   ]
  },
  {
   "cell_type": "markdown",
   "metadata": {},
   "source": [
    "Negative parts of the kernel lead to an inhibiting behaviour. SOURCE showed that in this case the stability of the process only depends on the positive parts of the function. According to branching process theory we need to ensure that the \"evolution rate\" is smaller than one which translates in our case to\n",
    "$$\\displaystyle\\int_{X\\times[0,\\infty)} \\lambda(s,t)\\mathrm d(s,t) < 1$$.\n",
    "Choosing the parameters accordingly will be done in the next cell"
   ]
  },
  {
   "cell_type": "code",
   "execution_count": 30,
   "metadata": {},
   "outputs": [
    {
     "name": "stdout",
     "output_type": "stream",
     "text": [
      "(0.9008083553313299, 1.0000981768635618e-14)\n"
     ]
    }
   ],
   "source": [
    "import scipy.optimize as opt\n",
    "from scipy.integrate import quad\n",
    "\n",
    "param = 1.3\n",
    "\n",
    "def K(space):\n",
    "    a = 2.0\n",
    "    b = param\n",
    "    Ind = (space >= 0) & (space <= b)\n",
    "    return (261/5* a/b**4.0 * (space - b/2)**4.0 - 341.0/20.0*a/b**2.0* (space - b/2)**2.0 + a)*Ind\n",
    "\n",
    "n1 = opt.fsolve(K,param/3.0)\n",
    "n2 = opt.fsolve(K,2*param/3.0)\n",
    "\n",
    "print(quad(K,n1,n2))\n"
   ]
  },
  {
   "cell_type": "code",
   "execution_count": 1,
   "metadata": {},
   "outputs": [],
   "source": [
    "h = lambda x: [x-1 if x-1>= 0 else 0]"
   ]
  },
  {
   "cell_type": "code",
   "execution_count": 3,
   "metadata": {},
   "outputs": [
    {
     "data": {
      "text/plain": [
       "[0]"
      ]
     },
     "execution_count": 3,
     "metadata": {},
     "output_type": "execute_result"
    }
   ],
   "source": [
    "h(0)"
   ]
  }
 ],
 "metadata": {
  "kernelspec": {
   "display_name": "Python 3",
   "language": "python",
   "name": "python3"
  },
  "language_info": {
   "codemirror_mode": {
    "name": "ipython",
    "version": 3
   },
   "file_extension": ".py",
   "mimetype": "text/x-python",
   "name": "python",
   "nbconvert_exporter": "python",
   "pygments_lexer": "ipython3",
   "version": "3.6.5"
  }
 },
 "nbformat": 4,
 "nbformat_minor": 2
}
